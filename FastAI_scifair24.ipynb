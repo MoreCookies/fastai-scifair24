{
  "nbformat": 4,
  "nbformat_minor": 0,
  "metadata": {
    "colab": {
      "provenance": [],
      "authorship_tag": "ABX9TyNhVFgpox7SjERc2HPZE2nu",
      "include_colab_link": true
    },
    "kernelspec": {
      "name": "python3",
      "display_name": "Python 3"
    },
    "language_info": {
      "name": "python"
    }
  },
  "cells": [
    {
      "cell_type": "markdown",
      "metadata": {
        "id": "view-in-github",
        "colab_type": "text"
      },
      "source": [
        "<a href=\"https://colab.research.google.com/github/MoreCookies/fastai-scifair24/blob/main/FastAI_scifair24.ipynb\" target=\"_parent\"><img src=\"https://colab.research.google.com/assets/colab-badge.svg\" alt=\"Open In Colab\"/></a>"
      ]
    },
    {
      "cell_type": "code",
      "execution_count": null,
      "metadata": {
        "id": "otNrk7oINuEX"
      },
      "outputs": [],
      "source": [
        "from fastai.vision.all import *\n",
        "import numpy as np\n",
        "import pandas as pd\n",
        "import matplotlib.pyplot as plt\n",
        "import shutil\n",
        "import os\n",
        "\n",
        "from glob import glob"
      ]
    },
    {
      "cell_type": "markdown",
      "source": [],
      "metadata": {
        "id": "ncLq66jgdCYG"
      }
    },
    {
      "cell_type": "code",
      "source": [
        "path = \"\"\n",
        "\n",
        "gt = pd.read_csv(\"\")"
      ],
      "metadata": {
        "id": "en5qi1bjcyUE"
      },
      "execution_count": null,
      "outputs": []
    },
    {
      "cell_type": "code",
      "source": [
        "dls = ImageDataLoader.from_df(\n",
        "    df,\n",
        "    path=\"\",\n",
        "    csv_fname=\"\",\n",
        "\n",
        "    get_items = get_image_files,\n",
        "    get_y = parent_label,\n",
        "    item_tfms = Resize(460),\n",
        "    batch_tfms = aug_transforms(size=224, min_scale=0.75)\n",
        ")\n"
      ],
      "metadata": {
        "id": "7kkzDAIjN3LA"
      },
      "execution_count": null,
      "outputs": []
    },
    {
      "cell_type": "markdown",
      "source": [
        "TODO\n",
        "\n",
        "Load Data  \n",
        "\n",
        "Format data function  \n",
        "Merge data function\n",
        "\n",
        "Get Weighted Loss\n",
        "\n",
        "\n",
        "\n",
        "\n",
        "Copy Chapter 7\n"
      ],
      "metadata": {
        "id": "tacbAd_FN7GJ"
      }
    },
    {
      "cell_type": "code",
      "source": [
        "model = xresnet50()\n",
        "learn = Learner(dls, model, loss_func=CrossEntropyLossFlat(), metrics=accuracy)\n",
        "learn.fit_one_cycle(5, 3e-3)"
      ],
      "metadata": {
        "id": "0R0HF_stcLly"
      },
      "execution_count": null,
      "outputs": []
    },
    {
      "cell_type": "code",
      "source": [
        "# an example of normalization calculated on a batch of images\n",
        "# (because we aren't using normalization yet, you'll see the mean and standard deviation are not very close to\n",
        "# 0 and 1 respectively)\n",
        "x, y = dls.one_batch()\n",
        "\n",
        "x.mean(dim=[0,2,3]), x.std(dim=[0,2,3])"
      ],
      "metadata": {
        "id": "UNPClGv1cM8Q"
      },
      "execution_count": null,
      "outputs": []
    },
    {
      "cell_type": "code",
      "source": [
        "def get_dls(batch_size, image_size):\n",
        "  dblock = DataBlock(\n",
        "      blocks=(ImageBlock(), CategoryBlock()),\n",
        "      get_items = get_image_files,\n",
        "      get_y = parent_label,\n",
        "      item_tfms = Resize(460),\n",
        "      batch_tfms = [*aug_transforms(size=image_size, min_scale=0.75), Normalize.from_stats(*imagenet_stats)]\n",
        "  )\n",
        "\n",
        "  dls = dblock.dataloaders(path, bs=batch_size)\n",
        "  return dls"
      ],
      "metadata": {
        "id": "r9ER37tucOKV"
      },
      "execution_count": null,
      "outputs": []
    },
    {
      "cell_type": "code",
      "source": [
        "dls = get_dls(64, 224)\n",
        "\n",
        "# an example of normalization calculated on a batch of images\n",
        "# (because we are using normalization now, the mean and standard deviation are very close to 0 and 1 respectively)\n",
        "x, y = dls.one_batch()\n",
        "print(x.mean(dim=[0,2,3]), x.std(dim=[0,2,3]))\n",
        "\n",
        "# does this normalization improve our model? Let's see ...\n",
        "model = xresnet50()\n",
        "learn = Learner(dls, model, loss_func=CrossEntropyLossFlat(), metrics=accuracy)\n",
        "learn.fit_one_cycle(5, 3e-3)"
      ],
      "metadata": {
        "id": "VJkIsO1ecPZO"
      },
      "execution_count": null,
      "outputs": []
    },
    {
      "cell_type": "markdown",
      "source": [
        "## Progressive Resizing"
      ],
      "metadata": {
        "id": "zn0ESCrKcQ35"
      }
    },
    {
      "cell_type": "code",
      "source": [
        "dls = get_dls(128,128)\n",
        "learn = Learner(dls, xresnet50(), loss_func=CrossEntropyLossFlat(), metrics=accuracy)\n",
        "learn.fit_one_cycle(4, 3e-3)\n",
        "\n",
        "# simply replace the `Learner.dls` with new `DataLoaders` and continue traning.\n",
        "learn.dls = get_dls(64, 224)\n",
        "learn.fine_tune(5, 1e-3)"
      ],
      "metadata": {
        "id": "_I1114O-cSjm"
      },
      "execution_count": null,
      "outputs": []
    },
    {
      "cell_type": "markdown",
      "source": [
        "## TTA"
      ],
      "metadata": {
        "id": "3JhiXPXEcTBt"
      }
    },
    {
      "cell_type": "code",
      "source": [
        "# you can pass any `DataLoaders` to `tta()` (by default it uses your validation `DataLoader`)\n",
        "preds, targs = learn.tta()\n",
        "accuracy(preds, targs).item()"
      ],
      "metadata": {
        "id": "Xfd5jIyccVkI"
      },
      "execution_count": null,
      "outputs": []
    },
    {
      "cell_type": "markdown",
      "source": [
        "## MixUp"
      ],
      "metadata": {
        "id": "AW50pE6QcWxy"
      }
    },
    {
      "cell_type": "code",
      "source": [
        "model = xresnet50()\n",
        "learn = Learner(dls, model, loss_func=CrossEntropyLossFlat(), metrics=accuracy, cbs=MixUp)\n",
        "learn.fit_one_cycle(5, 3e-3)"
      ],
      "metadata": {
        "id": "OowePOascaiH"
      },
      "execution_count": null,
      "outputs": []
    },
    {
      "cell_type": "markdown",
      "source": [
        "## Label Smoothing"
      ],
      "metadata": {
        "id": "Gg1d17rBcb4K"
      }
    },
    {
      "cell_type": "code",
      "source": [
        "model = xresnet50()\n",
        "learn = Learner(dls, model, loss_func=LabelSmoothingCrossEntropy(), metrics=accuracy)\n",
        "learn.fit_one_cycle(5, 3e-3)"
      ],
      "metadata": {
        "id": "KhCar-HHcdsP"
      },
      "execution_count": null,
      "outputs": []
    }
  ]
}